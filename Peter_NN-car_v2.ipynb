{
 "cells": [
  {
   "cell_type": "code",
   "execution_count": 1,
   "id": "6024bbbc-169d-4b34-962a-184b21942a8e",
   "metadata": {
    "tags": []
   },
   "outputs": [],
   "source": [
    "import os\n",
    "import torch\n",
    "import pandas as pd\n",
    "\n",
    "from torch import nn\n",
    "from torch import optim\n",
    "from torch.utils.data import Dataset, DataLoader\n",
    "from sklearn.model_selection import train_test_split\n",
    "\n",
    "import torch.nn.functional as F\n",
    "import pickle as pkl\n",
    "import matplotlib.pyplot as plt\n",
    "import time"
   ]
  },
  {
   "cell_type": "code",
   "execution_count": 2,
   "id": "1eb8324e-0945-4a78-aad3-9768811c1742",
   "metadata": {
    "tags": []
   },
   "outputs": [
    {
     "name": "stdout",
     "output_type": "stream",
     "text": [
      "torch.Size([3357, 3])\n",
      "torch.Size([3357, 1])\n"
     ]
    }
   ],
   "source": [
    "#----------------------------------------\n",
    "\n",
    "# Read data, convert to NumPy arrays\n",
    "data = pd.read_csv(\"data/sonar_samples_for_TDS.csv\", header=None)\n",
    "X = data.iloc[:, 0:3].values\n",
    "y = data.iloc[:, 3].values\n",
    "\n",
    "# convert into PyTorch tensors\n",
    "trainingSetX = torch.tensor(X, dtype=torch.float32)\n",
    "trainingSetY = torch.tensor(y, dtype=torch.float32).reshape(-1, 1)\n",
    "\n",
    "#----------------------------------------\n",
    "\n",
    "print(trainingSetX.shape)\n",
    "print(trainingSetY.shape)\n",
    "\n",
    "#----------------------------------------"
   ]
  },
  {
   "cell_type": "code",
   "execution_count": 3,
   "id": "b5e704c6-52d9-4f23-9632-f74bb5e260fa",
   "metadata": {
    "tags": []
   },
   "outputs": [
    {
     "name": "stdout",
     "output_type": "stream",
     "text": [
      "Using cuda device\n"
     ]
    }
   ],
   "source": [
    "#----------------------------------------\n",
    "\n",
    "device = (\n",
    "    \"cuda\" if torch.cuda.is_available() else \"mps\" if torch.backends.mps.is_available() else \"cpu\"\n",
    ")\n",
    "\n",
    "#----------------------------------------\n",
    "\n",
    "print(f\"Using {device} device\")\n",
    "\n",
    "#----------------------------------------"
   ]
  },
  {
   "cell_type": "code",
   "execution_count": 4,
   "id": "ea2b0a79-fc5e-46de-bcd9-88eb8a3905ca",
   "metadata": {
    "tags": []
   },
   "outputs": [],
   "source": [
    "#----------------------------------------\n",
    "\n",
    "nds = 12\n",
    "\n",
    "class NeuralNetwork(nn.Module):\n",
    "    \n",
    "    def __init__(self, inputs, outputs):\n",
    "        \n",
    "        super().__init__()\n",
    "        \n",
    "        # Simple linear connections\n",
    "        self.linear_relu_stack = nn.Sequential(\n",
    "            nn.Linear(3, 36),\n",
    "            nn.ReLU(),\n",
    "            nn.Linear(36, 24),\n",
    "            nn.ReLU(),\n",
    "            nn.Linear(24, 12),\n",
    "            nn.ReLU(),\n",
    "            nn.Linear(12, 1),\n",
    "            # nn.ReLU()\n",
    "        )\n",
    "            \n",
    "    def forward(self, x):\n",
    "        \n",
    "        return self.linear_relu_stack(x)\n",
    "\n",
    "\n",
    "#----------------------------------------"
   ]
  },
  {
   "cell_type": "code",
   "execution_count": 5,
   "id": "938df5ad-d5b6-4528-a105-72deac767561",
   "metadata": {
    "tags": []
   },
   "outputs": [
    {
     "name": "stdout",
     "output_type": "stream",
     "text": [
      "NeuralNetwork(\n",
      "  (linear_relu_stack): Sequential(\n",
      "    (0): Linear(in_features=3, out_features=36, bias=True)\n",
      "    (1): ReLU()\n",
      "    (2): Linear(in_features=36, out_features=24, bias=True)\n",
      "    (3): ReLU()\n",
      "    (4): Linear(in_features=24, out_features=12, bias=True)\n",
      "    (5): ReLU()\n",
      "    (6): Linear(in_features=12, out_features=1, bias=True)\n",
      "  )\n",
      ")\n",
      "Model accuracy: 75.19%\n"
     ]
    }
   ],
   "source": [
    "#----------------------------------------\n",
    "\n",
    "epochs = 100\n",
    "\n",
    "learningRate = 0.00008\n",
    "\n",
    "#----------------------------------------\n",
    "\n",
    "# Simplest possible network: 9 inputs and 1 output (binary: 0 when < 0.5 and 1 when > 0.5)\n",
    "model = NeuralNetwork(3, 1)\n",
    "\n",
    "print(model)\n",
    "\n",
    "#----------------------------------------\n",
    "\n",
    "losses = []\n",
    "\n",
    "# Take binary cross entropy as loss function (one output interpreted as binary)\n",
    "# lossFunction = nn.BCELoss()\n",
    "lossFunction = nn.MSELoss()\n",
    "\n",
    "# Use stochastic gradient descent as optimizer, use weights and biases of model\n",
    "gradientDescent = torch.optim.SGD(model.parameters(), lr=learningRate)\n",
    "# gradientDescent = torch.optim.RMSprop(model.parameters(), lr=learningRate)\n",
    "\n",
    "#----------------------------------------\n",
    "\n",
    "added = False\n",
    "\n",
    "for i in range(epochs):\n",
    "    \n",
    "    added = False\n",
    "    \n",
    "    for x, y in zip(trainingSetX, trainingSetY):\n",
    "    \n",
    "        # Reset the gradient delta's (dw, db)\n",
    "        gradientDescent.zero_grad()\n",
    "\n",
    "        # Forward step\n",
    "        yhat = model(x)\n",
    "\n",
    "        # Compute loss\n",
    "        loss = lossFunction(yhat, y)\n",
    "        \n",
    "        if not added:\n",
    "            \n",
    "            added = True\n",
    "        \n",
    "            # Keep track of loss\n",
    "            losses.append(loss.item())\n",
    "\n",
    "        # Apply gradient descent (via backpropagation)\n",
    "        loss.backward()\n",
    "\n",
    "        # Use w += -step * dw * learnRate\n",
    "        gradientDescent.step()\n",
    "\n",
    "#----------------------------------------\n",
    "\n",
    "# evaluate accuracy after training\n",
    "model.eval()\n",
    "y_pred = model(trainingSetX)\n",
    "acc = (y_pred.round() == trainingSetY).float().mean()\n",
    "acc = float(acc)\n",
    "print(\"Model accuracy: %.2f%%\" % (acc*100))\n",
    "\n",
    "#----------------------------------------"
   ]
  },
  {
   "cell_type": "code",
   "execution_count": 6,
   "id": "8b90a8a3-bf9b-4cac-835c-ce43e2f48b20",
   "metadata": {},
   "outputs": [],
   "source": [
    "# Saving Model\n",
    "filehandler = open('data/SDCar.pickle', 'wb')\n",
    "pkl.dump(model.linear_relu_stack, filehandler)"
   ]
  },
  {
   "cell_type": "code",
   "execution_count": 8,
   "id": "48267f46-72a0-4baf-9cb8-447982338bcd",
   "metadata": {},
   "outputs": [],
   "source": [
    "# Saving Model\n",
    "filehandler = open('data/SDCar.pth', 'wb')\n",
    "torch.save(model.linear_relu_stack, filehandler)"
   ]
  },
  {
   "cell_type": "code",
   "execution_count": 7,
   "id": "50aa443a-aa5c-478c-b8ea-9c25d6ef8c6e",
   "metadata": {
    "tags": []
   },
   "outputs": [
    {
     "data": {
      "image/png": "[encoded data removed]",
      "text/plain": [
       "<Figure size 640x480 with 1 Axes>"
      ]
     },
     "metadata": {},
     "output_type": "display_data"
    }
   ],
   "source": [
    "#----------------------------------------\n",
    "\n",
    "fig, ax = plt.subplots()\n",
    "ax.set(xlabel='Epoch', ylabel='Cost', title=\"Training Cost\")\n",
    "\n",
    "plt.plot([x for x in range(epochs)], losses, 'red')\n",
    "plt.show()\n",
    "\n",
    "#----------------------------------------"
   ]
  },
  {
   "cell_type": "code",
   "execution_count": 8,
   "id": "98feda4e-4716-4c1b-bfb8-140f0f2becf4",
   "metadata": {
    "tags": []
   },
   "outputs": [],
   "source": [
    "#----------------------------------------\n",
    "\n",
    "# Let's compare\n",
    "# for x, y in zip(trainingSetX, trainingSetY):\n",
    "\n",
    "    # print(f\"actual: {round(y.item())}, predicted: {model(x).item()}, rounded: {round(model(x).item())}\")\n",
    "    \n",
    "#----------------------------------------"
   ]
  }
 ],
 "metadata": {
  "kernelspec": {
   "display_name": "Python 3 (ipykernel)",
   "language": "python",
   "name": "python3"
  },
  "language_info": {
   "codemirror_mode": {
    "name": "ipython",
    "version": 3
   },
   "file_extension": ".py",
   "mimetype": "text/x-python",
   "name": "python",
   "nbconvert_exporter": "python",
   "pygments_lexer": "ipython3",
   "version": "3.10.10"
  }
 },
 "nbformat": 4,
 "nbformat_minor": 5
}
