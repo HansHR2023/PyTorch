{
 "cells": [
  {
   "cell_type": "markdown",
   "metadata": {},
   "source": [
    "\n",
    "# PyTorch: Tensors\n",
    "\n",
    "A third order polynomial, trained to predict $y=\\sin(x)$ from $-\\pi$\n",
    "to $pi$ by minimizing squared Euclidean distance.\n",
    "\n",
    "This implementation uses PyTorch tensors to manually compute the forward pass,\n",
    "loss, and backward pass.\n",
    "\n",
    "A PyTorch Tensor is basically the same as a numpy array: it does not know\n",
    "anything about deep learning or computational graphs or gradients, and is just\n",
    "a generic n-dimensional array to be used for arbitrary numeric computation.\n",
    "\n",
    "The biggest difference between a numpy array and a PyTorch Tensor is that\n",
    "a PyTorch Tensor can run on either CPU or GPU. To run operations on the GPU,\n",
    "just cast the Tensor to a cuda datatype.\n"
   ]
  },
  {
   "cell_type": "code",
   "execution_count": 1,
   "metadata": {},
   "outputs": [],
   "source": [
    "import torch\n",
    "import math\n",
    "%matplotlib inline"
   ]
  },
  {
   "cell_type": "code",
   "execution_count": 2,
   "metadata": {},
   "outputs": [
    {
     "data": {
      "text/plain": [
       "True"
      ]
     },
     "execution_count": 2,
     "metadata": {},
     "output_type": "execute_result"
    }
   ],
   "source": [
    "# check if a gpu is available on your pc\n",
    "torch.cuda.is_available()"
   ]
  },
  {
   "cell_type": "code",
   "execution_count": 12,
   "metadata": {
    "collapsed": false,
    "jupyter": {
     "outputs_hidden": false
    }
   },
   "outputs": [
    {
     "name": "stdout",
     "output_type": "stream",
     "text": [
      "epoch: 99, loss: 519.80224609375\n",
      "epoch: 199, loss: 370.37152099609375\n",
      "epoch: 299, loss: 264.64166259765625\n",
      "epoch: 399, loss: 189.83224487304688\n",
      "epoch: 499, loss: 136.89987182617188\n",
      "epoch: 599, loss: 99.44660186767578\n",
      "epoch: 699, loss: 72.9455795288086\n",
      "epoch: 799, loss: 54.19406509399414\n",
      "epoch: 899, loss: 40.925750732421875\n",
      "epoch: 999, loss: 31.5372371673584\n",
      "epoch: 1099, loss: 24.893993377685547\n",
      "epoch: 1199, loss: 20.193260192871094\n",
      "epoch: 1299, loss: 16.867015838623047\n",
      "epoch: 1399, loss: 14.51335620880127\n",
      "epoch: 1499, loss: 12.847888946533203\n",
      "epoch: 1599, loss: 11.66938304901123\n",
      "epoch: 1699, loss: 10.835456848144531\n",
      "epoch: 1799, loss: 10.245356559753418\n",
      "epoch: 1899, loss: 9.827788352966309\n",
      "epoch: 1999, loss: 9.532310485839844\n",
      "\n",
      "Result: y = -0.028298569843173027 + 0.8573487997055054 x + 0.004881973844021559 x^2 + -0.09341686218976974 x^3\n"
     ]
    }
   ],
   "source": [
    "dtype = torch.float\n",
    "# device = torch.device(\"cpu\")\n",
    "device = torch.device(\"cuda:0\") # Uncomment this to run on GPU\n",
    "\n",
    "# Create random input and output data\n",
    "x = torch.linspace(-math.pi, math.pi, 2000, device=device, dtype=dtype)\n",
    "y = torch.sin(x)\n",
    "\n",
    "# Randomly initialize weights\n",
    "a = torch.randn((), device=device, dtype=dtype)\n",
    "b = torch.randn((), device=device, dtype=dtype)\n",
    "c = torch.randn((), device=device, dtype=dtype)\n",
    "d = torch.randn((), device=device, dtype=dtype)\n",
    "\n",
    "learning_rate = 1e-6\n",
    "for epoch in range(2000):\n",
    "    # Forward pass: compute predicted y\n",
    "    y_pred = a + b * x + c * x ** 2 + d * x ** 3\n",
    "\n",
    "    # Compute and print loss\n",
    "    loss = (y_pred - y).pow(2).sum().item()\n",
    "    if epoch % 100 == 99:\n",
    "        print(f'epoch: {epoch}, loss: {loss}')\n",
    "\n",
    "    # Backpropagation to compute gradients of a, b, c, d \n",
    "    # with respect to loss\n",
    "    grad_y_pred = 2.0 * (y_pred - y)\n",
    "    grad_a = grad_y_pred.sum()\n",
    "    grad_b = (grad_y_pred * x).sum()\n",
    "    grad_c = (grad_y_pred * x ** 2).sum()\n",
    "    grad_d = (grad_y_pred * x ** 3).sum()\n",
    "\n",
    "    # Update weights using gradient descent\n",
    "    a -= learning_rate * grad_a\n",
    "    b -= learning_rate * grad_b\n",
    "    c -= learning_rate * grad_c\n",
    "    d -= learning_rate * grad_d\n",
    "\n",
    "print()\n",
    "print(f'Result: y = {a.item()} + {b.item()} x + {c.item()} x^2 + {d.item()} x^3')"
   ]
  },
  {
   "cell_type": "code",
   "execution_count": null,
   "metadata": {},
   "outputs": [],
   "source": []
  }
 ],
 "metadata": {
  "kernelspec": {
   "display_name": "Python 3 (ipykernel)",
   "language": "python",
   "name": "python3"
  },
  "language_info": {
   "codemirror_mode": {
    "name": "ipython",
    "version": 3
   },
   "file_extension": ".py",
   "mimetype": "text/x-python",
   "name": "python",
   "nbconvert_exporter": "python",
   "pygments_lexer": "ipython3",
   "version": "3.10.10"
  }
 },
 "nbformat": 4,
 "nbformat_minor": 4
}
