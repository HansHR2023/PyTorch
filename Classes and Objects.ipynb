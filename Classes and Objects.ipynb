{
 "cells": [
  {
   "cell_type": "markdown",
   "id": "3004c84e-d98b-402e-8e69-dd39d4ff1290",
   "metadata": {},
   "source": [
    "Class and object"
   ]
  },
  {
   "cell_type": "code",
   "execution_count": 3,
   "id": "8efd35a1-3b19-4f55-9433-cc3cf9c9f9a9",
   "metadata": {},
   "outputs": [
    {
     "name": "stdout",
     "output_type": "stream",
     "text": [
      "Name: Mountain Bike, Gears: 11\n"
     ]
    }
   ],
   "source": [
    "# define a class\n",
    "class Bike:\n",
    "    name = ''\n",
    "    gear = 0\n",
    "    \n",
    "# define an object\n",
    "bike1 = Bike()\n",
    "\n",
    "# access attributes of the class and assign new values\n",
    "bike1.name = 'Mountain Bike'\n",
    "bike1.gear = 11\n",
    "\n",
    "print(f'Name: {bike1.name}, Gears: {bike1.gear}')"
   ]
  },
  {
   "cell_type": "code",
   "execution_count": 4,
   "id": "e538c99f-0c86-4653-8d4d-f483892500d1",
   "metadata": {},
   "outputs": [
    {
     "name": "stdout",
     "output_type": "stream",
     "text": [
      "Employee ID: 1001\n",
      "Employee ID: 1002\n"
     ]
    }
   ],
   "source": [
    "# define a class\n",
    "class Employee:\n",
    "    # define an attribute\n",
    "    employee_id = 0\n",
    "\n",
    "# create two objects of the Employee class\n",
    "employee1 = Employee()\n",
    "employee2 = Employee()\n",
    "\n",
    "# access attributes using employee1\n",
    "employee1.employeeID = 1001\n",
    "print(f\"Employee ID: {employee1.employeeID}\")\n",
    "\n",
    "# access attributes using employee2\n",
    "employee2.employeeID = 1002\n",
    "print(f\"Employee ID: {employee2.employeeID}\")"
   ]
  },
  {
   "cell_type": "code",
   "execution_count": 6,
   "id": "60bbace2-8989-4c24-8f41-b8aa9c9316e2",
   "metadata": {},
   "outputs": [
    {
     "name": "stdout",
     "output_type": "stream",
     "text": [
      "Area of Room = 1309.0\n"
     ]
    }
   ],
   "source": [
    "# create a class\n",
    "class Room:\n",
    "    length = 0.0\n",
    "    breadth = 0.0\n",
    "    \n",
    "    # method to calculate area\n",
    "    def calculate_area(self):\n",
    "        print(\"Area of Room =\", self.length * self.breadth)\n",
    "\n",
    "# create object of Room class\n",
    "study_room = Room()\n",
    "\n",
    "# assign values to all the attributes \n",
    "study_room.length = 42.5\n",
    "study_room.breadth = 30.8\n",
    "\n",
    "# access method inside class\n",
    "study_room.calculate_area()"
   ]
  },
  {
   "cell_type": "code",
   "execution_count": 8,
   "id": "79521d53-9ffc-4fc9-98f3-dbf9f91d3519",
   "metadata": {},
   "outputs": [
    {
     "name": "stdout",
     "output_type": "stream",
     "text": [
      "1260\n"
     ]
    }
   ],
   "source": [
    "class Room:\n",
    "    l = 0\n",
    "    b = 0\n",
    "    \n",
    "    def calc(self):\n",
    "        return self.l * self.b\n",
    "    \n",
    "study = Room()\n",
    "\n",
    "study.l = 42\n",
    "study.b = 30\n",
    "\n",
    "print(study.calc())"
   ]
  },
  {
   "cell_type": "code",
   "execution_count": 4,
   "id": "8957536f-6191-4d2a-a923-be0b17ab0cbd",
   "metadata": {},
   "outputs": [
    {
     "name": "stdout",
     "output_type": "stream",
     "text": [
      "<__main__.Car object at 0x7f54445ac220>\n",
      "Audi\n"
     ]
    }
   ],
   "source": [
    "# vergelijk deze cel met de volgende\n",
    "\n",
    "class Car:\n",
    "    name = ''\n",
    "    \n",
    "# create object\n",
    "car1 = Car()\n",
    "\n",
    "car1.name = 'Audi'\n",
    "\n",
    "print(car1)\n",
    "print(car1.name)"
   ]
  },
  {
   "cell_type": "code",
   "execution_count": 5,
   "id": "57936175-3930-4319-9dcd-8abe2d11d74d",
   "metadata": {},
   "outputs": [
    {
     "name": "stdout",
     "output_type": "stream",
     "text": [
      "<__main__.Plane object at 0x7f54445ad660>\n",
      "Airbus\n"
     ]
    }
   ],
   "source": [
    "# vergelijk deze cel met de vorige\n",
    "\n",
    "class Plane:\n",
    "    \n",
    "    # constructor function\n",
    "    def __init__(self, name = ''):\n",
    "        self.name = name\n",
    "\n",
    "# create object\n",
    "plane1 = Plane()\n",
    "\n",
    "plane1.name = 'Airbus'\n",
    "\n",
    "print(plane1)\n",
    "print(plane1.name)"
   ]
  },
  {
   "cell_type": "code",
   "execution_count": 11,
   "id": "536a8ce0-8c1c-4a5b-a199-0d71faa7728d",
   "metadata": {},
   "outputs": [],
   "source": [
    "# data klaarzetten voor PyTorch \n",
    "# Dataset uit PyTorch\n",
    "from torch.utils.data import Dataset\n",
    "\n",
    "class Data(Dataset):\n",
    "    def __init__(self, X, y):\n",
    "        self.X = torch.from_numpy(X.astype(np.float32))\n",
    "        self.y = torch.from_numpy(y.astype(np.float32))\n",
    "        self.len = self.X.shape[0]\n",
    "        \n",
    "    def __getitem__(self, index):\n",
    "        return self.X[index], self.y[index]\n",
    "    \n",
    "    def __len__(self):\n",
    "        return self.len\n",
    "    \n",
    "\n",
    "        "
   ]
  },
  {
   "cell_type": "code",
   "execution_count": 13,
   "id": "ce64b0ca-c24a-43d7-8bc6-76bd723d4e73",
   "metadata": {},
   "outputs": [],
   "source": [
    "# Inheritance\n",
    "\n",
    "# define a superclass\n",
    "class super_class:\n",
    "    # attributes and method definition\n",
    "    pass\n",
    "\n",
    "# inheritance\n",
    "class sub_class(super_class):\n",
    "    # attributes and method of super_class\n",
    "    # attributes and method of sub_class\n",
    "    pass"
   ]
  },
  {
   "cell_type": "code",
   "execution_count": 25,
   "id": "1e14d4a3-2506-4db5-90b8-e72d08852d93",
   "metadata": {},
   "outputs": [
    {
     "name": "stdout",
     "output_type": "stream",
     "text": [
      "I can eat\n",
      "My name is  Goldy\n"
     ]
    }
   ],
   "source": [
    "# parent class Animal and child class Dog\n",
    "\n",
    "class Animal:\n",
    "    # attribute and method of the parent class\n",
    "    name = ''\n",
    "    \n",
    "    def eat(self):\n",
    "        print('I can eat')\n",
    "        \n",
    "# inherit from animal\n",
    "class Dog(Animal):\n",
    "    # new method in subclass\n",
    "    def display(self):\n",
    "        # access name attribute of superclass using self\n",
    "        print('My name is ', self.name)\n",
    "        \n",
    "# create an object of the subclass\n",
    "labrador = Dog()\n",
    "\n",
    "# access superclass attribute and method\n",
    "labrador.name = 'Goldy'\n",
    "labrador.eat()\n",
    "\n",
    "# call subclass method\n",
    "labrador.display()\n",
    "        "
   ]
  },
  {
   "cell_type": "code",
   "execution_count": 19,
   "id": "a759cc5f-1780-4a70-8ca5-9e0932b235ab",
   "metadata": {},
   "outputs": [],
   "source": [
    "# parent class Polygon and child class Triangle\n",
    "\n",
    "class Polygon:\n",
    "    def __init__(self, no_of_sides):\n",
    "        self.n = no_of_sides\n",
    "        self.sides = [0 for i in range(no_of_sides)]\n",
    "    \n",
    "    def inputSides(self):\n",
    "        self.sides = [float(input('Enter side' + str(i+1) + ' : ')) for i in range(self, n)]\n",
    "        \n",
    "    def dispSides(self):\n",
    "        for i in range(self, n):\n",
    "            print('Side', i+1, 'is', self.sides[i])"
   ]
  },
  {
   "cell_type": "code",
   "execution_count": 18,
   "id": "99532411-dc19-467e-8f50-1e8bc51d5367",
   "metadata": {},
   "outputs": [
    {
     "ename": "TypeError",
     "evalue": "'Triangle' object cannot be interpreted as an integer",
     "output_type": "error",
     "traceback": [
      "\u001b[0;31m---------------------------------------------------------------------------\u001b[0m",
      "\u001b[0;31mTypeError\u001b[0m                                 Traceback (most recent call last)",
      "Cell \u001b[0;32mIn[18], line 22\u001b[0m\n\u001b[1;32m     19\u001b[0m t \u001b[38;5;241m=\u001b[39m Triangle()\n\u001b[1;32m     21\u001b[0m \u001b[38;5;66;03m# Prompting the user to enter the sides of the triangle\u001b[39;00m\n\u001b[0;32m---> 22\u001b[0m \u001b[43mt\u001b[49m\u001b[38;5;241;43m.\u001b[39;49m\u001b[43minputSides\u001b[49m\u001b[43m(\u001b[49m\u001b[43m)\u001b[49m\n\u001b[1;32m     24\u001b[0m \u001b[38;5;66;03m# Displaying the sides of the triangle\u001b[39;00m\n\u001b[1;32m     25\u001b[0m t\u001b[38;5;241m.\u001b[39mdispSides()\n",
      "Cell \u001b[0;32mIn[17], line 9\u001b[0m, in \u001b[0;36mPolygon.inputSides\u001b[0;34m(self)\u001b[0m\n\u001b[1;32m      8\u001b[0m \u001b[38;5;28;01mdef\u001b[39;00m \u001b[38;5;21minputSides\u001b[39m(\u001b[38;5;28mself\u001b[39m):\n\u001b[0;32m----> 9\u001b[0m     \u001b[38;5;28mself\u001b[39m\u001b[38;5;241m.\u001b[39msides \u001b[38;5;241m=\u001b[39m [\u001b[38;5;28mfloat\u001b[39m(\u001b[38;5;28minput\u001b[39m(\u001b[38;5;124m'\u001b[39m\u001b[38;5;124mEnter side\u001b[39m\u001b[38;5;124m'\u001b[39m \u001b[38;5;241m+\u001b[39m \u001b[38;5;28mstr\u001b[39m(i\u001b[38;5;241m+\u001b[39m\u001b[38;5;241m1\u001b[39m) \u001b[38;5;241m+\u001b[39m \u001b[38;5;124m'\u001b[39m\u001b[38;5;124m : \u001b[39m\u001b[38;5;124m'\u001b[39m)) \u001b[38;5;28;01mfor\u001b[39;00m i \u001b[38;5;129;01min\u001b[39;00m \u001b[38;5;28;43mrange\u001b[39;49m\u001b[43m(\u001b[49m\u001b[38;5;28;43mself\u001b[39;49m\u001b[43m,\u001b[49m\u001b[43m \u001b[49m\u001b[38;5;28;43mself\u001b[39;49m\u001b[38;5;241;43m.\u001b[39;49m\u001b[43mn\u001b[49m\u001b[43m)\u001b[49m]\n",
      "\u001b[0;31mTypeError\u001b[0m: 'Triangle' object cannot be interpreted as an integer"
     ]
    }
   ],
   "source": [
    "class Triangle(Polygon):\n",
    "    # Initializing the number of sides of the triangle to 3 by \n",
    "    # calling the __init__ method of the Polygon class\n",
    "    \n",
    "    def __init__(self):\n",
    "        Polygon.__init__(self,3)\n",
    "\n",
    "    def findArea(self):\n",
    "        a, b, c = self.sides\n",
    "\n",
    "        # calculate the semi-perimeter\n",
    "        s = (a + b + c) / 2\n",
    "\n",
    "        # Using Heron's formula to calculate the area of the triangle\n",
    "        area = (s*(s-a)*(s-b)*(s-c)) ** 0.5\n",
    "        print('The area of the triangle is %0.2f' %area)\n",
    "\n",
    "# Creating an instance of the Triangle class\n",
    "t = Triangle()\n",
    "\n",
    "# Prompting the user to enter the sides of the triangle\n",
    "t.inputSides()\n",
    "\n",
    "# Displaying the sides of the triangle\n",
    "t.dispSides()\n",
    "\n",
    "# Calculating and printing the area of the triangle\n",
    "t.findArea()"
   ]
  },
  {
   "cell_type": "code",
   "execution_count": null,
   "id": "e12f1fdf-5874-442f-aeb0-35f6c4e5051b",
   "metadata": {},
   "outputs": [],
   "source": []
  }
 ],
 "metadata": {
  "kernelspec": {
   "display_name": "Python 3 (ipykernel)",
   "language": "python",
   "name": "python3"
  },
  "language_info": {
   "codemirror_mode": {
    "name": "ipython",
    "version": 3
   },
   "file_extension": ".py",
   "mimetype": "text/x-python",
   "name": "python",
   "nbconvert_exporter": "python",
   "pygments_lexer": "ipython3",
   "version": "3.10.10"
  }
 },
 "nbformat": 4,
 "nbformat_minor": 5
}
