{
 "cells": [
  {
   "cell_type": "code",
   "execution_count": 1,
   "id": "5f4cba96-2e9c-4fe8-ab9b-58f96f20cb31",
   "metadata": {},
   "outputs": [],
   "source": [
    "import pandas as pd\n",
    "import torch\n",
    "from torch.utils.data import Dataset, DataLoader, random_split\n",
    "from sklearn.preprocessing import LabelEncoder\n",
    "import numpy as np\n",
    "import matplotlib.pyplot as plt\n",
    "from sklearn.model_selection import train_test_split"
   ]
  },
  {
   "cell_type": "code",
   "execution_count": 2,
   "id": "a465bf91-ff76-4d89-bd91-4c1b11c19079",
   "metadata": {},
   "outputs": [],
   "source": [
    "df = pd.read_csv('default.samples', delim_whitespace=True, header=None, index_col=False)\n",
    "data = df\n",
    "\n",
    "X = data.iloc[:, 0:3].values\n",
    "\n",
    "y = data.iloc[:, 3].values\n",
    "\n",
    " \n",
    "# encode class values as integers\n",
    "encoder = LabelEncoder()\n",
    "encoder.fit(y)\n",
    "y = encoder.transform(y)\n",
    "\n",
    " \n",
    "# convert into PyTorch tensors\n",
    "X = torch.tensor(X, dtype=torch.float32)\n",
    "y = torch.tensor(y, dtype=torch.float32).reshape(-1, 1)\n",
    " \n",
    "# # create DataLoader, then take one batch\n",
    "# loader = DataLoader(list(zip(X,y)), shuffle=True, batch_size=64)\n",
    "# for X_batch, y_batch in loader:\n",
    "#     print(X_batch, y_batch)\n",
    "#     break\n",
    "\n",
    "class SonarDataset(Dataset):\n",
    "    def __init__(self, X, y):\n",
    "        # convert into PyTorch tensors and remember them\n",
    "        self.X = torch.tensor(X, dtype=torch.float32)\n",
    "        self.y = torch.tensor(y, dtype=torch.float32)\n",
    " \n",
    "    def __len__(self):\n",
    "        # this should return the size of the dataset\n",
    "        return len(self.X)\n",
    " \n",
    "    def __getitem__(self, idx):\n",
    "        # this should return one sample from the dataset\n",
    "        features = self.X[idx]\n",
    "        target = self.y[idx]\n",
    "        return features, target\n",
    "    \n",
    "    \n",
    "# train-test split for evaluation of the model\n",
    "X_train, X_test, y_train, y_test = train_test_split(X, y, train_size=0.7, shuffle=True)\n",
    " \n",
    "# set up DataLoader for training set\n",
    "loader = DataLoader(list(zip(X_train, y_train)), shuffle=True, batch_size=len(X_train))\n",
    "     \n",
    "\n",
    "# # set up DataLoader for data set\n",
    "# dataset = SonarDataset(X, y)\n",
    "# trainset, testset = random_split(dataset, [0.7, 0.3])\n",
    "# loader = DataLoader(trainset, shuffle=True, batch_size= len(trainset))\n",
    "\n",
    "# # Instantiate training and test data\n",
    "# train_data = Data(X_train, y_train)\n",
    "# train_dataloader = DataLoader(dataset=train_data, batch_size = 64, shuffle=True)\n",
    "\n",
    "# test_data = Data(X_test, y_test)\n",
    "# test_dataloader = DataLoader(dataset=test_data, batch_size=64, shuffle=True)\n"
   ]
  },
  {
   "cell_type": "code",
   "execution_count": 3,
   "id": "d61bb41d-db51-485f-a9d1-f0a804de4f2d",
   "metadata": {
    "tags": []
   },
   "outputs": [
    {
     "name": "stdout",
     "output_type": "stream",
     "text": [
      "NeuralNetwork(\n",
      "  (layer_1): Linear(in_features=3, out_features=3, bias=True)\n",
      "  (layer_2): Linear(in_features=3, out_features=3, bias=True)\n",
      "  (layer_3): Linear(in_features=3, out_features=3, bias=True)\n",
      "  (layer_4): Linear(in_features=3, out_features=1, bias=True)\n",
      ")\n",
      "Training Complete\n",
      "Model accuracy: 85.94%\n"
     ]
    }
   ],
   "source": [
    "from torch import nn\n",
    "from torch import optim\n",
    "\n",
    "\n",
    "class NeuralNetwork(nn.Module):\n",
    "    def __init__(self, input_dim, hidden_dim1,hidden_dim2, hidden_dim3, output_dim):\n",
    "        super(NeuralNetwork, self).__init__()\n",
    "        self.layer_1 = nn.Linear(input_dim, hidden_dim1)\n",
    "        nn.init.kaiming_uniform_(self.layer_1.weight, nonlinearity=\"relu\")\n",
    "        self.layer_2 = nn.Linear(hidden_dim1, hidden_dim2)\n",
    "        nn.init.kaiming_uniform_(self.layer_2.weight, nonlinearity=\"relu\")\n",
    "        self.layer_3 = nn.Linear(hidden_dim2, hidden_dim3)\n",
    "        nn.init.kaiming_uniform_(self.layer_3.weight, nonlinearity=\"relu\")\n",
    "        self.layer_4 = nn.Linear(hidden_dim3, output_dim)\n",
    "       \n",
    "    def forward(self, x):\n",
    "        x = torch.nn.functional.relu(self.layer_1(x))\n",
    "        x = torch.nn.functional.relu(self.layer_2(x))\n",
    "        x = torch.nn.functional.relu(self.layer_3(x))\n",
    "        x = torch.nn.functional.sigmoid(self.layer_4(x))\n",
    "\n",
    "        return x\n",
    "\n",
    "input_dim = 3\n",
    "hidden_dim1 = 3\n",
    "hidden_dim2 =3\n",
    "hidden_dim3 = 3\n",
    "output_dim = 1\n",
    "model = NeuralNetwork(input_dim, hidden_dim1, hidden_dim2, hidden_dim3, output_dim)\n",
    "print(model)\n",
    "\n",
    "n_epochs = 2000\n",
    "loss_values = []\n",
    "loss_fn = nn.MSELoss()\n",
    "optimizer = optim.SGD(model.parameters(), lr=0.1)\n",
    "model.train()\n",
    "for epoch in range(n_epochs):\n",
    "    for X_values, y_values in loader:\n",
    "        optimizer.zero_grad()\n",
    " \n",
    "# forward + backward + optimize\n",
    "\n",
    "        y_pred = model(X_values)\n",
    "        loss = loss_fn(y_pred, y_)\n",
    "        #print(len(loss_values))\n",
    "        loss_values.append(loss.item())\n",
    "        \n",
    "        loss.backward()\n",
    "        optimizer.step()\n",
    "\n",
    "print(\"Training Complete\")\n",
    "\n",
    "model.eval()\n",
    "y_pred = model(X_test)\n",
    "acc = (y_pred.round() == y_test).float().mean()\n",
    "acc = float(acc)\n",
    "print(\"Model accuracy: %.2f%%\" % (acc*100))"
   ]
  },
  {
   "cell_type": "code",
   "execution_count": 4,
   "id": "97b89918-a80d-415d-bcd2-122c6d4bb909",
   "metadata": {
    "tags": []
   },
   "outputs": [
    {
     "data": {
      "image/png": "[encoded data removed]",
      "text/plain": [
       "<Figure size 640x480 with 1 Axes>"
      ]
     },
     "metadata": {},
     "output_type": "display_data"
    }
   ],
   "source": [
    "# step = np.linspace(0, 100, 7400)\n",
    "\n",
    "# fig, ax = plt.subplots(figsize=(8,5))\n",
    "# plt.plot(step, np.array(loss_values))\n",
    "# plt.title(\"Step-wise Loss\")\n",
    "# plt.xlabel(\"Epochs\")\n",
    "# plt.ylabel(\"Loss\")\n",
    "# plt.show()\n",
    "\n",
    "fig, ax = plt.subplots()\n",
    "ax.set(xlabel='Epoch', ylabel='Cost', title=\"Training Cost\")\n",
    "\n",
    "plt.plot([x for x in range(n_epochs)], loss_values, 'red')\n",
    "plt.show()"
   ]
  },
  {
   "cell_type": "code",
   "execution_count": null,
   "id": "f4043637-3a26-416a-99ef-5411e4dd4ca9",
   "metadata": {},
   "outputs": [],
   "source": []
  }
 ],
 "metadata": {
  "kernelspec": {
   "display_name": "Python 3 (ipykernel)",
   "language": "python",
   "name": "python3"
  },
  "language_info": {
   "codemirror_mode": {
    "name": "ipython",
    "version": 3
   },
   "file_extension": ".py",
   "mimetype": "text/x-python",
   "name": "python",
   "nbconvert_exporter": "python",
   "pygments_lexer": "ipython3",
   "version": "3.10.11"
  }
 },
 "nbformat": 4,
 "nbformat_minor": 5
}
